{
 "cells": [
  {
   "cell_type": "markdown",
   "metadata": {},
   "source": [
    "# Binary Representation of Real Numbers\n",
    "\n",
    "## Problem\n",
    "\n",
    "We want to encode a real number `r` in a binary string, using only the minimum number of bits necessary to achieve a given precision `epsilon` within a range `[a, b]`.\n",
    "\n",
    "We also want to be able to decode the binary string back into the real number.\n",
    "\n",
    "We've been given an example `r = 0.637197` and a range `[a, b] = [-1, 2]` and a precision `epsilon = 10^-6`, and we've been told that the example encoding `1000101110110101000110` is the correct encoding for `r`.\n",
    "\n",
    "## Solution"
   ]
  },
  {
   "cell_type": "code",
   "execution_count": 1,
   "metadata": {},
   "outputs": [],
   "source": [
    "import numpy as np"
   ]
  },
  {
   "cell_type": "code",
   "execution_count": 2,
   "metadata": {},
   "outputs": [],
   "source": [
    "a, b = -1, 2\n",
    "epsilon = 10**-6\n",
    "r = 0.637197\n",
    "expected_encoded_r = \"1000101110110101000110\""
   ]
  },
  {
   "cell_type": "code",
   "execution_count": 3,
   "metadata": {},
   "outputs": [
    {
     "name": "stdout",
     "output_type": "stream",
     "text": [
      "k:\t\t 21\n",
      "expected_k:\t 22\n"
     ]
    }
   ],
   "source": [
    "k = int(np.ceil(np.log2((b - a) / (2 * epsilon))))\n",
    "\n",
    "print(\"k:\\t\\t\", k)\n",
    "print(\"expected_k:\\t\", len(expected_encoded_r))"
   ]
  },
  {
   "cell_type": "code",
   "execution_count": 6,
   "metadata": {},
   "outputs": [],
   "source": [
    "def enc(r: float) -> str:\n",
    "    # Original equation: r_encoded = (r - a) / (b - a) * (2**k - 1) + 1/2\n",
    "    normalized_r = (r - a) / (b - a)\n",
    "    scaled_r = normalized_r * (2**k - 1)\n",
    "    aligned_r = scaled_r + 1 / 2\n",
    "    binary_representation = f\"{int(aligned_r):b}\"\n",
    "    return binary_representation\n",
    "\n",
    "\n",
    "def dec(encoded_r: str) -> float:\n",
    "    # Original equation: a + int(encoded_r, 2) * (b-a)/(2**k - 1)\n",
    "    encoded_int = int(encoded_r, 2)\n",
    "    scaling_factor = (b - a) / (2**k - 1)\n",
    "    scaled_value = encoded_int * scaling_factor\n",
    "    decoded_r = a + scaled_value\n",
    "    return decoded_r"
   ]
  },
  {
   "cell_type": "code",
   "execution_count": 5,
   "metadata": {},
   "outputs": [
    {
     "name": "stdout",
     "output_type": "stream",
     "text": [
      "r:\t\t\t 0.637197\n",
      "expected_encoded_r:\t 1000101110110101000110\n",
      "\n",
      "encoded_r:\t\t 100010111011010100011\n",
      "dec(encoded_r):\t\t 0.637196844671652\n",
      "rounded dec(encoded_r):\t 0.637197\n"
     ]
    }
   ],
   "source": [
    "print(\"r:\\t\\t\\t\", r)\n",
    "print(\"expected_encoded_r:\\t\", expected_encoded_r)\n",
    "print()\n",
    "print(\"encoded_r:\\t\\t\", enc(r))\n",
    "print(\"dec(encoded_r):\\t\\t\", dec(enc(r)))\n",
    "print(\n",
    "    \"rounded dec(encoded_r):\\t\", round(dec(enc(r)), -int(np.floor(np.log10(epsilon))))\n",
    ")"
   ]
  },
  {
   "cell_type": "markdown",
   "metadata": {},
   "source": [
    "# Explanation\n",
    "\n",
    "You can see that the encoded `r` matches the expected encoded `r`, except that the expected encoded `r` has `22` bits, while the encoded `r` we calculated has `21`. When we decoded the encoded `r`, we got a value slightly different from the original `r`, but when we rounded to the nearest precision `epsilon`, we got the original `r`, as intended.\n",
    "\n",
    "I am surprised that `k` was `22` in the instructions, but `21` is enough to encode `r` with the precision we need, as demonstrated by the `k` calculation and the roundtrip example."
   ]
  }
 ],
 "metadata": {
  "kernelspec": {
   "display_name": "Python 3",
   "language": "python",
   "name": "python3"
  },
  "language_info": {
   "codemirror_mode": {
    "name": "ipython",
    "version": 3
   },
   "file_extension": ".py",
   "mimetype": "text/x-python",
   "name": "python",
   "nbconvert_exporter": "python",
   "pygments_lexer": "ipython3",
   "version": "3.12.2"
  }
 },
 "nbformat": 4,
 "nbformat_minor": 2
}
